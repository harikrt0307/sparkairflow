{
 "cells": [
  {
   "cell_type": "code",
   "execution_count": null,
   "id": "62060b3a-2e22-4037-a1b9-92820de1f342",
   "metadata": {},
   "outputs": [],
   "source": [
    "print(\"Testing Git\")"
   ]
  },
  {
   "cell_type": "code",
   "execution_count": null,
   "id": "e83daee0-463e-4270-9a82-1d3214bc1ff2",
   "metadata": {},
   "outputs": [],
   "source": []
  }
 ],
 "metadata": {
  "kernelspec": {
   "display_name": "Python 3 (ipykernel)",
   "language": "python",
   "name": "python3"
  },
  "language_info": {
   "codemirror_mode": {
    "name": "ipython",
    "version": 3
   },
   "file_extension": ".py",
   "mimetype": "text/x-python",
   "name": "python",
   "nbconvert_exporter": "python",
   "pygments_lexer": "ipython3",
   "version": "3.11.9"
  }
 },
 "nbformat": 4,
 "nbformat_minor": 5
}
