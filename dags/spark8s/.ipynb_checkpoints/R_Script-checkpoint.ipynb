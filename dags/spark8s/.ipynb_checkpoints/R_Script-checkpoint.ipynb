{
 "cells": [
  {
   "cell_type": "code",
   "execution_count": null,
   "id": "4fb4a563-287c-46bb-af85-e0f5d6b07502",
   "metadata": {},
   "outputs": [],
   "source": [
    "# Load necessary library\n",
    "install.packages(\"ggplot2\")\n",
    "library(ggplot2)\n",
    "\n",
    "# Create a simple data frame\n",
    "data <- data.frame(\n",
    "  ID = 1:4,\n",
    "  Name = c(\"Alice\", \"Bob\", \"Cathy\", \"David\"),\n",
    "  Age = c(29, 31, 25, 35)\n",
    ")\n",
    "\n",
    "# Print the data frame\n",
    "print(\"Original Data Frame:\")\n",
    "print(data)\n",
    "\n",
    "# Select specific columns\n",
    "selected_data <- data[, c(\"Name\", \"Age\")]\n",
    "print(\"Selected Columns (Name and Age):\")\n",
    "print(selected_data)\n",
    "\n",
    "# Filter rows where Age is greater than 30\n",
    "filtered_data <- subset(data, Age > 30)\n",
    "print(\"Filtered Rows (Age > 30):\")\n",
    "print(filtered_data)\n",
    "\n",
    "# Group by Age and count the number of occurrences\n",
    "age_counts <- aggregate(ID ~ Age, data, length)\n",
    "names(age_counts)[2] <- \"Count\"\n",
    "print(\"Age Group Counts:\")\n",
    "print(age_counts)\n",
    "\n",
    "# Create a simple plot using ggplot2\n",
    "ggplot(data, aes(x = Name, y = Age)) +\n",
    "  geom_bar(stat = \"identity\", fill = \"steelblue\") +\n",
    "  labs(title = \"Age of Individuals\", x = \"Name\", y = \"Age\") +\n",
    "  theme_minimal()\n"
   ]
  }
 ],
 "metadata": {
  "kernelspec": {
   "display_name": "R",
   "language": "R",
   "name": "ir"
  },
  "language_info": {
   "codemirror_mode": "r",
   "file_extension": ".r",
   "mimetype": "text/x-r-source",
   "name": "R",
   "pygments_lexer": "r",
   "version": "4.3.3"
  }
 },
 "nbformat": 4,
 "nbformat_minor": 5
}
